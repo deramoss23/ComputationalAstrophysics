{
 "cells": [
  {
   "cell_type": "markdown",
   "metadata": {
    "id": "-AlVXAp0hOzb"
   },
   "source": [
    "![Astrofisica Computacional](../logo.PNG)"
   ]
  },
  {
   "cell_type": "markdown",
   "metadata": {},
   "source": [
    "---\n",
    "## 02. ODEs I. Euler's method to describe the Motion of a Comet\n",
    "\n",
    "\n",
    "Eduard Larrañaga (ealarranaga@unal.edu.co)\n",
    "\n",
    "---"
   ]
  },
  {
   "cell_type": "markdown",
   "metadata": {
    "id": "qBz9ZpSAhOzl"
   },
   "source": [
    "### Summary\n",
    "\n",
    "This notebook presents the application of Euler's method to the problem of the movement of a comet around the Sun.\n",
    "\n",
    "---"
   ]
  },
  {
   "cell_type": "markdown",
   "metadata": {
    "id": "tIe7Lt0dhOzm"
   },
   "source": [
    "## A Comet-Sun System\n",
    "\n",
    "In this application problem the motion of a comet around the Sun is described. The mass of the comet will be considered to be much smaller than the mass of the Sun, $m \\ll M$, which is in agreement with reality. For example, the mass of Halley's Comet is $m \\approx 2.2 \\times 10^{14}$ kg, which is a very small amount compared to the mass of the Sun, $M \\approx 1.9 \\times 10^{30} $ kg.\n",
    "\n",
    "This assumption implies that the comet will move while the Sun remains stationary at the origin of coordinates. In this way, the equations of motion will be,\n",
    "\n",
    "\\begin{align}\n",
    "\\frac{d^2 x}{dt^2} = &- \\frac{GM}{(x^2 + y^2)^{3/2}} x \\\\\n",
    "\\frac{d^2 y}{dt^2} = &- \\frac{GM}{(x^2 + y^2)^{3/2}} y ,\n",
    "\\end{align}\n",
    "\n",
    "where the problem has been restricted to the plane of motion, with coordinates $xy$. To solve this problem numerically, we rewrite the system of equations in the form\n",
    "\n",
    "\\begin{align}\n",
    "\\frac{d x}{dt} = &v^x \\\\\n",
    "\\frac{d y}{dt} = &v^y \\\\\n",
    "\\frac{dv^x}{dt} = &- \\frac{GM}{(x^2 + y^2)^{3/2}} x \\\\\n",
    "\\frac{dv^y}{dt} = &- \\frac{GM}{(x^2 + y^2)^{3/2}} y.\n",
    "\\end{align}\n",
    "\n",
    "\n",
    "An important consideration has to do with the magnitudes of the physical quantities and constants involved in the problem. For the development, we will use the following system of units:\n",
    "\n",
    "- Units of mass: Solar Masses $M_{\\odot}$\n",
    "- Distance units: astronomical units [au]\n",
    "- Time units: years [yr]\n",
    "\n",
    "In this system of units, the Newtonian gravitational constant takes the value $G = 4\\pi^2$."
   ]
  },
  {
   "cell_type": "markdown",
   "metadata": {
    "id": "K6-NqMgehOzp"
   },
   "source": [
    "The system of ordinary differential equations is implemented by"
   ]
  },
  {
   "cell_type": "code",
   "execution_count": null,
   "metadata": {
    "id": "JUjUaLSIhOzp"
   },
   "outputs": [],
   "source": [
    "# Newtonian Gravitational Constant\n",
    "G = 4. *pi^2\n",
    "M = 1.\n",
    "\n",
    "function f(t0, q0)\n",
    "    \"\"\"\n",
    "    ------------------------------------------\n",
    "    f(t0, q0) \n",
    "    ------------------------------------------\n",
    "    ODEs system for the motion of a comet \n",
    "    around the Sun using cartesian coordinates\n",
    "    in the orbital plane.\n",
    "    ------------------------------------------\n",
    "    Arguments:\n",
    "    t0: initial time\n",
    "    q0: array with the initial condition\n",
    "        data:\n",
    "        q0[0] = x\n",
    "        q0[1] = y\n",
    "        q0[2] = dx/dt\n",
    "        q0[3] = dy/dt\n",
    "    ------------------------------------------\n",
    "    \"\"\"\n",
    "    x = q0[1]\n",
    "    y = q0[2]\n",
    "    vx = q0[3]\n",
    "    vy = q0[4]\n",
    "    f = zeros(4)\n",
    "    r32 = (x^2 + y^2)^(3/2)\n",
    "    f[1] = vx\n",
    "    f[2] = vy\n",
    "    f[3] = - G*M*x/r32\n",
    "    f[4] = - G*M*y/r32\n",
    "    return f\n",
    "end"
   ]
  },
  {
   "cell_type": "markdown",
   "metadata": {
    "id": "R11d5eONhOzq"
   },
   "source": [
    "---\n",
    "## Initial Condition\n",
    "\n",
    "Choosing the initial condition can be a crucial aspect in the case of the two-body gravitational problem. One way to adequately establish this condition is by using the conserved quantities, which in this case will be the energy, $E$, and the total angular momentum, $l$,\n",
    "\n",
    "\\begin{equation}\n",
    "E = \\frac{1}{2} m \\left[ (v^x)^2 + (v^y)^2\\right] - \\frac{GMm}{r}\n",
    "\\end{equation}\n",
    "\n",
    "\\begin{equation}\n",
    "\\vec{l} = \\vec{r} \\times \\vec{p} = m \\vec{r} \\times \\vec{v}.\n",
    "\\end{equation}\n",
    "\n",
    "Considering that the movement occurs in the $x-y$ plane, we have\n",
    "\n",
    "\\begin{equation}\n",
    "l = x p^y - y p^x = m(x v^y - y v^x).\n",
    "\\end{equation}\n",
    "\n",
    "## Effective Potential\n",
    "\n",
    "Another important quantity to take into account is the effective potential, defined in the form\n",
    "\n",
    "\\begin{equation}\n",
    "V_{\\text{eff}} (r) = \\frac{l^2}{2m^2r^2} - \\frac{GM}{r}.\n",
    "\\end{equation}\n",
    "\n",
    "or \n",
    "\n",
    "\\begin{equation}\n",
    "V_{\\text{eff}} (r) = \\frac{h^2}{2r^2} - \\frac{GM}{r}.\n",
    "\\end{equation}\n",
    "\n",
    "where $h= \\frac{l}{m}$ is the specific angular momentum."
   ]
  },
  {
   "cell_type": "code",
   "execution_count": null,
   "metadata": {
    "colab": {
     "base_uri": "https://localhost:8080/",
     "height": 447
    },
    "executionInfo": {
     "elapsed": 1188,
     "status": "ok",
     "timestamp": 1621297714030,
     "user": {
      "displayName": "Eduard Alexis Larranaga",
      "photoUrl": "https://lh3.googleusercontent.com/a-/AOh14GgCVABzEgj-rCdyxWa29RnA0kIYUCXAaVbnRYOEhQ=s64",
      "userId": "04402438389940282602"
     },
     "user_tz": 300
    },
    "id": "2FVGO5acxsWM",
    "outputId": "659562d6-4665-4dcd-871f-ab82c9529742"
   },
   "outputs": [],
   "source": [
    "using Plots\n",
    "using LaTeXStrings\n",
    "\n",
    "function eff_potential(r, h)\n",
    "  return (h^2)/(2 *r^2) - G*M/r\n",
    "end\n",
    "\n",
    "r = LinRange(0.05,5.,200) \n",
    "\n",
    "hline([0], color=\"black\", alpha=0.5, label=false)\n",
    "plot!(r, eff_potential.(r,2.5), color=\"crimson\", label=L\"$V_{eff} (r)$\"\n",
    "     ,title=\"Effective Potential\", titlefontsize=10\n",
    "     , xlabel=L\"$r$\", ylabel=L\"$V_{eff} (r)$, $E$\")\n",
    "\n",
    "hline!([-25],color=\"cornflowerblue\", label=\"E\")\n",
    "\n",
    "\n",
    "#plt.ylim(-150,100)\n",
    "#plt.xlim(0,5)\n"
   ]
  },
  {
   "cell_type": "markdown",
   "metadata": {
    "id": "hlk1CXxCxqTi"
   },
   "source": [
    "### Conditions for Bounded Motion (Elliptical or Circular Paths)\n",
    "\n",
    "From the relationships presented it is possible to impose some relationships to obtain the initial condition for a specific kind of motion. First, we must remember that the bounded trajectories, for a fixed value of angular momentum, $l$, must have a negative energy, i.e. $E< 0$. This imposes the restriction\n",
    "\n",
    "\\begin{equation}\n",
    "\\frac{E}{m} = \\frac{1}{2} \\left[(v^x)^2 + (v^y)^2\\right] - \\frac{GM}{r} < 0\n",
    "\\end{equation}\n",
    "\\begin{equation}\n",
    "\\left[(v^x)^2 + (v^y)^2\\right]< \\frac{2GM}{r}.\n",
    "\\end{equation}\n",
    "\n",
    "Second, the total energy must be greater than (or equal to) the effective potential for motion to exist. This implies that\n",
    "\n",
    "\\begin{align}\n",
    "\\frac{E}{m} \\geq &V_{\\text{eff}} (r) \\\\\n",
    "\\frac{1}{2} \\left[(v^x)^2 + (v^y)^2\\right] - \\frac{GM}{r} \\geq &\\frac{l^2}{2m ^2 r^2} - \\frac{GM}{r}\\\\\n",
    "\\left[(v^x)^2 + (v^y)^2\\right] \\geq &\\frac{(x v^y - y v^x)^2}{ r^2}\n",
    "\\end{align}\n",
    "\n",
    "### Choosing the Initial Condition\n",
    "\n",
    "Using $G= 4 \\pi^2$ and $M = 1 M_{\\odot}$, the conditions imposed above will be\n",
    "\n",
    "\\begin{equation}\n",
    "    \\begin{cases}\n",
    "    \\left[(v^x)^2 + (v^y)^2\\right]< &\\frac{8\\pi^2}{r} \\\\\n",
    "    \\left[(v^x)^2 + (v^y)^2\\right] \\geq &\\frac{(x v^y - y v^x)^2}{ r^2}\n",
    "    \\end{cases}\n",
    "\\end{equation}\n",
    "\n",
    "\n",
    "Now we can choose that, at $t=0$, the coordinates of the comet are $x = 1 \\text{ au}$ and $y=0 \\text{ au}$. With this you get\n",
    "\n",
    "\\begin{equation}\n",
    "    \\begin{cases}\n",
    "    (v^x)^2 + (v^y)^2&< 8\\pi^2 \\\\\n",
    "    (v^x)^2 &\\geq 0.\n",
    "    \\end{cases}\n",
    "\\end{equation}\n",
    "\n",
    "The equals sign in the second equation corresponds to the circular orbit (if located at the effective potential minimum) or the location of the return points (apses). Therefore, assuming that the initial condition will correspond to one of the apsis, $v^x = 0$ is taken and we will have only one equation that links the other velocity component,\n",
    "\n",
    "\\begin{equation}\n",
    "    v^y < 2\\sqrt{2}\\pi \\approx 8.885766 \\frac{\\text{au}}{\\text{yr}}.\n",
    "\\end{equation}\n",
    "\n",
    "Summarizing these results, to obtain a bounded orbit for the comet's motion, the initial condition will be imposed\n",
    "\n",
    "\\begin{equation}\n",
    "    \\begin{cases}\n",
    "    x_0 = & 1\\text{au}\\\\\n",
    "    y_0 = & 0 \\\\\n",
    "    v^x = & 0 \\\\\n",
    "    v^y = & 3\\frac{\\text{au}}{\\text{yr}}.\n",
    "    \\end{cases}\n",
    "\\end{equation}\n",
    "\n",
    "The temporal grid that will be used to apply the integration method will be defined from $t_0 = 0$ to $t_f = 20$ years."
   ]
  },
  {
   "cell_type": "markdown",
   "metadata": {
    "id": "vzMNwoIQQ4Zm"
   },
   "source": [
    "## ODE System Solution\n",
    "\n",
    "Euler's method will now be used to solve the differential problem."
   ]
  },
  {
   "cell_type": "code",
   "execution_count": null,
   "metadata": {
    "id": "NgKKBNBqhOzq"
   },
   "outputs": [],
   "source": [
    "function FEuler(ODE, t0, q0, tf, n)\n",
    "    \"\"\"\n",
    "    ------------------------------------------\n",
    "    FEuler(ODE, t0, q0, tf, n)\n",
    "    Forward Euler's method for solving a ODEs \n",
    "    system.\n",
    "    ------------------------------------------\n",
    "    Arguments:\n",
    "    ODE:function with the ODE system \n",
    "    t0: independent parameter initial value\n",
    "    q0: array with the initial values of\n",
    "        the functions in the ODEs \n",
    "    tf: independent parameter final value\n",
    "    n : Number of integration steps \n",
    "    ------------------------------------------\n",
    "    \"\"\"\n",
    "    dt = (tf - t0)/n\n",
    "    q = zeros(n,length(q0)+1)\n",
    "    q[1,1] = t0\n",
    "    q[1,2:end] = q0\n",
    "    for i in 2:n\n",
    "        q[i,1] = q[i-1,1] + dt\n",
    "        q[i,2:end] = q[i-1,2:end] .+ dt.*ODE(q[i-1,1], q[i-1,2:end])\n",
    "    end\n",
    "    return q\n",
    "end\n",
    "\n",
    "\n",
    "# Creation of the time grid (in years)\n",
    "t0 = 0.\n",
    "tf = 20.\n",
    "\n",
    "# Number of steps in the grid\n",
    "n = 100000\n",
    "\n",
    "dt = (tf - t0)/n\n",
    "\n",
    "# Initial Conditions\n",
    "Q0 = [1., 0., 0., 3.]       \n",
    "\n",
    "# Solving the problem\n",
    "QE = FEuler(f, t0, Q0, tf, n)\n",
    "\n",
    "# Plot\n",
    "plot(QE[:,2], QE[:,3], color=\"crimson\", label=L\"$dt =$ \"*string(dt)\n",
    "     , xlabel=L\"$x$\" , ylabel=L\"$y$\"\n",
    "     , title=\"Forward Euler's Method\", titlefontsize=10)"
   ]
  },
  {
   "cell_type": "markdown",
   "metadata": {
    "id": "_oM-TR1rhOzr"
   },
   "source": [
    "From the trajectory obtained it is clear that the method is not giving a good result for the initial parameters established. To improve the behavior, we will reduce the value of the size of the integration step,"
   ]
  },
  {
   "cell_type": "code",
   "execution_count": null,
   "metadata": {
    "id": "VElrDuyohOzr"
   },
   "outputs": [],
   "source": [
    "# Creation of the time grid (in years)\n",
    "t0 = 0.\n",
    "tf = 5.\n",
    "\n",
    "# Number of steps in the grid (1 millon points!)\n",
    "nI = 1000000\n",
    "\n",
    "# Constant stepsize defined by the number of steps in the grid\n",
    "dtI = (tf - t0)/nI\n",
    "\n",
    "# Initial Conditions\n",
    "Q0 = [1., 0., 0., 3.]       \n",
    "\n",
    "# Solving the problem\n",
    "QEI = FEuler(f, t0, Q0, tf, nI)\n",
    "\n",
    "# Plot\n",
    "plot(QEI[:,2], QEI[:,3], color=\"crimson\", label=L\"$dt =$ \"*string(dtI)\n",
    "     , xlabel=L\"$x$\" , ylabel=L\"$y$\"\n",
    "     , title=\"Forward Euler's Method\", titlefontsize=10)\n"
   ]
  },
  {
   "cell_type": "markdown",
   "metadata": {},
   "source": [
    "Even when the performance is not the best, an improvement is noted compared to the previous result. Further decreasing the step size improves the computed orbit."
   ]
  },
  {
   "cell_type": "code",
   "execution_count": null,
   "metadata": {
    "colab": {
     "base_uri": "https://localhost:8080/",
     "height": 295
    },
    "executionInfo": {
     "elapsed": 3411,
     "status": "ok",
     "timestamp": 1621297840133,
     "user": {
      "displayName": "Eduard Alexis Larranaga",
      "photoUrl": "https://lh3.googleusercontent.com/a-/AOh14GgCVABzEgj-rCdyxWa29RnA0kIYUCXAaVbnRYOEhQ=s64",
      "userId": "04402438389940282602"
     },
     "user_tz": 300
    },
    "id": "hCBa2aTNhOzs",
    "outputId": "aa71aa9a-eba2-4ea6-f5b4-dfd3c392a25b"
   },
   "outputs": [],
   "source": [
    "# Creation of the time grid (in years)\n",
    "t0 = 0.\n",
    "tf = 5.\n",
    "\n",
    "# Number of steps in the grid (10 millon points!)\n",
    "nII = 2000000\n",
    "\n",
    "# Constant stepsize defined by the number of steps in the grid\n",
    "dtII = (tf - t0)/nII\n",
    "\n",
    "# Initial Conditions\n",
    "Q0 = [1., 0., 0., 3.]       \n",
    "\n",
    "# Solving the problem\n",
    "QEII = FEuler(f, t0, Q0, tf, nII)\n",
    "\n",
    "# Plot\n",
    "plot(QEII[:,2], QEII[:,3], color=\"crimson\", label=L\"$dt =$ \"*string(dtII)\n",
    "     , xlabel=L\"$x$\" , ylabel=L\"$y$\"\n",
    "     , title=\"Forward Euler's Method\", titlefontsize=10)\n",
    "\n"
   ]
  },
  {
   "cell_type": "code",
   "execution_count": null,
   "metadata": {},
   "outputs": [],
   "source": [
    "QEII"
   ]
  },
  {
   "cell_type": "markdown",
   "metadata": {
    "id": "nWr7BxwphOzs"
   },
   "source": [
    "---\n",
    "\n",
    "To better analyze the result, we can calculate the energy and angular momentum of the system for the integrated time interval,"
   ]
  },
  {
   "cell_type": "code",
   "execution_count": null,
   "metadata": {},
   "outputs": [],
   "source": [
    "function conservedQ(q,n)\n",
    "    energy = zeros(n)\n",
    "    angMom = zeros(n)\n",
    "    for i in 1:n\n",
    "        speed2 = q[i,4]^2 + q[i,5]^2\n",
    "        r = sqrt(q[i,2]^2 + q[i,3]^2)\n",
    "        energy[i] = speed2/2 - G*M/r\n",
    "        angMom[i] = q[i,2]*q[i,5] - q[i,3]*q[i,4]\n",
    "    end\n",
    "    return energy, angMom\n",
    "end\n",
    "\n",
    "energy, angMom = conservedQ(QE, n)\n",
    "energyII, angMomII = conservedQ(QEII, n)\n",
    "\n",
    "p1 = plot(xlabel=L\"$t$\", ylabel=L\"$E , \\ell$\")\n",
    "plot!(p1, energy, label=\"energy\")\n",
    "plot!(p1, angMom, label=\"angular momentum\")\n",
    "\n",
    "p2 = plot(xlabel=L\"$t$\", ylabel=L\"$E , \\ell$\")\n",
    "plot!(p2, energyII, label=\"energy\")\n",
    "plot!(p2, angMomII, label=\"angular momentum\")\n",
    "\n",
    "p3 = plot(QE[:,2], QE[:,3], color=\"crimson\", label=L\"$dt =$ \"*string(dt)\n",
    "     , xlabel=L\"$x$\" , ylabel=L\"$y$\"\n",
    "     , title=\"Forward Euler's Method\", titlefontsize=10)\n",
    "p4 = plot(QEII[:,2], QEII[:,3], color=\"crimson\", label=L\"$dt =$ \"*string(dtII)\n",
    "     , xlabel=L\"$x$\" , ylabel=L\"$y$\"\n",
    "     , title=\"Forward Euler's Method\", titlefontsize=10)\n",
    "\n",
    "plot!(p1,p2,p3,p4, layout=(2,2))"
   ]
  },
  {
   "cell_type": "code",
   "execution_count": null,
   "metadata": {
    "colab": {
     "base_uri": "https://localhost:8080/",
     "height": 623
    },
    "executionInfo": {
     "elapsed": 3878,
     "status": "ok",
     "timestamp": 1621297957173,
     "user": {
      "displayName": "Eduard Alexis Larranaga",
      "photoUrl": "https://lh3.googleusercontent.com/a-/AOh14GgCVABzEgj-rCdyxWa29RnA0kIYUCXAaVbnRYOEhQ=s64",
      "userId": "04402438389940282602"
     },
     "user_tz": 300
    },
    "id": "Zpn-XfwuhOzs",
    "outputId": "346ce2a4-d798-4cb2-e5de-5fd376b4d58d"
   },
   "outputs": [],
   "source": [
    "function conservedQ(q,n)\n",
    "    energy = zeros(n)\n",
    "    angMom = zeros(n)\n",
    "    for i in 1:n\n",
    "        speed2 = q[i,4]^2 + q[i,5]^2\n",
    "        r = sqrt(q[i,2]^2 + q[i,3]^2)\n",
    "        energy[i] = speed2/2 - G*M/r\n",
    "        angMom[i] = q[i,2]*q[i,5] - q[i,3]*q[i,4]\n",
    "    end\n",
    "    return energy, angMom\n",
    "end\n",
    "\n",
    "    \n",
    "    \n",
    "    \n",
    "    \n",
    "    \n",
    "EnergyEII = np.zeros(nII)\n",
    "AngMomEII = np.zeros(nII)\n",
    "\n",
    "for i in range(n):\n",
    "    speed2 = QE[i,2]^2 + QE[i,3]^2\n",
    "    r = np.sqrt(QE[i,0]^2 + QE[i,1]^2)\n",
    "    EnergyE[i] = speed2/2 - G*M/r\n",
    "    AngMomE[i] = QE[i,0]*QE[i,3] - QE[i,1]*QE[i,2]\n",
    "\n",
    "for i in range(nII):\n",
    "    speed2 = QEII[i,2]^2 + QEII[i,3]^2\n",
    "    r = np.sqrt(QEII[i,0]^2 + QEII[i,1]^2)\n",
    "    EnergyEII[i] = speed2/2 - G*M/r\n",
    "    AngMomEII[i] = QEII[i,0]*QEII[i,3] - QEII[i,1]*QEII[i,2]\n",
    "\n",
    "\n",
    "fig, ax = plt.subplots(2,2, figsize=(14,10))\n",
    "ax[0,0].plot(QE[:,0], QE[:,1], color='crimson', label=f'$dt=$ {dt:.2e}')\n",
    "ax[0,0].set_title('Método de Euler')\n",
    "ax[0,0].set_xlabel(r'$x$')\n",
    "ax[0,0].set_ylabel(r'$y$')\n",
    "ax[0,0].legend()\n",
    "\n",
    "ax[0,1].plot(QEII[:,0], QEII[:,1], color='cornflowerblue', label=f'$dt=$ {dtII:.2e}')\n",
    "ax[0,1].set_title('Método de Euler')\n",
    "ax[0,1].set_xlabel(r'$x$')\n",
    "ax[0,1].set_ylabel(r'$y$')\n",
    "ax[0,1].legend()\n",
    "\n",
    "ax[1,0].plot(t, EnergyE, color='mediumslateblue', label=f'Energy')\n",
    "ax[1,0].plot(t, AngMomE, color='steelblue', label=f'Angular Momentum')\n",
    "ax[1,0].set_title('Método de Euler')\n",
    "ax[1,0].set_xlabel(r'$t$')\n",
    "ax[1,0].set_ylabel(r'$E, \\ell$')\n",
    "ax[1,0].legend()\n",
    "\n",
    "ax[1,1].plot(tII, EnergyEII, color='mediumslateblue', label=f'Energy')\n",
    "ax[1,1].plot(tII, AngMomEII, color='steelblue', label=f'Angular Momentum')\n",
    "ax[1,1].set_title('Método de Euler')\n",
    "ax[1,1].set_xlabel(r'$t$')\n",
    "ax[1,1].set_ylabel(r'$E, \\ell$')\n",
    "ax[1,1].legend()\n",
    "\n",
    "plt.show()"
   ]
  },
  {
   "cell_type": "markdown",
   "metadata": {
    "id": "AulgoTEmhOzt"
   },
   "source": [
    "These plots show clearly that the forward Euler's method with a not-so-small setpsize does not satisfy the conservation of energy (and produces a small increase in the angular momentum), while the RK4 do have a very good behavior."
   ]
  },
  {
   "cell_type": "code",
   "execution_count": null,
   "metadata": {
    "colab": {
     "base_uri": "https://localhost:8080/"
    },
    "executionInfo": {
     "elapsed": 642,
     "status": "ok",
     "timestamp": 1621297963416,
     "user": {
      "displayName": "Eduard Alexis Larranaga",
      "photoUrl": "https://lh3.googleusercontent.com/a-/AOh14GgCVABzEgj-rCdyxWa29RnA0kIYUCXAaVbnRYOEhQ=s64",
      "userId": "04402438389940282602"
     },
     "user_tz": 300
    },
    "id": "JFhoIHxYhOzt",
    "outputId": "b4423fc5-9a4a-4885-bdd2-0b8e94a90eff"
   },
   "outputs": [],
   "source": [
    "print(f'El cambio en la energía utilizandoun paso de dt = {dt:.2e} :', np.abs(EnergyE[n-1] - EnergyE[0]))\n",
    "print(f'\\nEl cambio en la energía utilizandoun paso de dt = {dtII:.2e} :', np.abs(EnergyEII[n-1] - EnergyEII[0]))"
   ]
  },
  {
   "cell_type": "code",
   "execution_count": null,
   "metadata": {},
   "outputs": [],
   "source": []
  }
 ],
 "metadata": {
  "@webio": {
   "lastCommId": null,
   "lastKernelId": null
  },
  "colab": {
   "collapsed_sections": [],
   "name": "Motion of a Comet.ipynb",
   "provenance": []
  },
  "kernelspec": {
   "display_name": "Julia 1.9.3",
   "language": "julia",
   "name": "julia-1.9"
  },
  "language_info": {
   "file_extension": ".jl",
   "mimetype": "application/julia",
   "name": "julia",
   "version": "1.9.3"
  }
 },
 "nbformat": 4,
 "nbformat_minor": 1
}
